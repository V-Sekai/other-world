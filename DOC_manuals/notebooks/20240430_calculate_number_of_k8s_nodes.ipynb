{
 "cells": [
  {
   "cell_type": "code",
   "execution_count": null,
   "id": "e128bb01-737b-4782-acfc-2b65a1caff15",
   "metadata": {},
   "outputs": [],
   "source": [
    "# Github actions has a 20 concurrency limit for free plans. windows-2019 windows-2022 windows-latest ubuntu-20.04 ubuntu-22.04 ubuntu-latest macos-11 macos-12 macos-12-xl macos-13 macos-13-xl macos-latest macos-latest-xl\n"
   ]
  }
 ],
 "metadata": {
  "kernelspec": {
   "display_name": "Python 3 (ipykernel)",
   "language": "python",
   "name": "python3"
  },
  "language_info": {
   "codemirror_mode": {
    "name": "ipython",
    "version": 3
   },
   "file_extension": ".py",
   "mimetype": "text/x-python",
   "name": "python",
   "nbconvert_exporter": "python",
   "pygments_lexer": "ipython3",
   "version": "3.11.8"
  }
 },
 "nbformat": 4,
 "nbformat_minor": 5
}
