{
 "cells": [
  {
   "cell_type": "code",
   "execution_count": 1,
   "id": "58cf6d50-e8c8-48e4-96bf-eb2f2cddb623",
   "metadata": {},
   "outputs": [
    {
     "name": "stdout",
     "output_type": "stream",
     "text": [
      "None\n",
      "('389a', 0, 1, 1, -2, 0, 2, 0.15246017794314373)\n"
     ]
    }
   ],
   "source": [
    "# Import necessary libraries\n",
    "import sqlite3\n",
    "from sage.all import *\n",
    "\n",
    "# Connect to the SQLite database\n",
    "connection = sqlite3.connect(\"20240430_hello_list.db\")\n",
    "\n",
    "# Execute SQL commands\n",
    "connection.execute(\"DROP TABLE IF EXISTS elliptic_curves\")\n",
    "connection.execute(\"\"\"\n",
    "    CREATE TABLE elliptic_curves (\n",
    "        cremona_label text primary key, \n",
    "        a_1 int, \n",
    "        a_2 int, \n",
    "        a_3 int, \n",
    "        a_4 int, \n",
    "        a_6 int, \n",
    "        rank int, \n",
    "        regulator float\n",
    "    )\n",
    "\"\"\")\n",
    "\n",
    "# Create an elliptic curve\n",
    "E = EllipticCurve(\"389a\")\n",
    "\n",
    "# Insert data into the table\n",
    "connection.execute(\"\"\"\n",
    "    INSERT INTO elliptic_curves(\n",
    "        cremona_label,\n",
    "        a_1,\n",
    "        a_2,\n",
    "        a_3,\n",
    "        a_4,\n",
    "        a_6,\n",
    "        rank,\n",
    "        regulator\n",
    "    ) \n",
    "    VALUES (?, ?, ?, ?, ?, ?, ?, ?)\n",
    "\"\"\", ('389a', int(E.a1()), int(E.a2()), int(E.a3()), int(E.a4()), int(E.a6()), int(E.rank()), float(E.regulator())))\n",
    "\n",
    "# Fetch and print data from the table where rank=1\n",
    "result = connection.execute(\"SELECT * FROM elliptic_curves WHERE rank=1\")\n",
    "print(result.fetchone())\n",
    "\n",
    "# Fetch and print data from the table where rank=2\n",
    "result = connection.execute(\"SELECT * FROM elliptic_curves WHERE rank=2\")\n",
    "print(result.fetchone())\n",
    "\n",
    "# Delete data from the table\n",
    "connection.execute(\"DELETE FROM elliptic_curves WHERE cremona_label = ?\", (\"389a\",))\n",
    "\n",
    "# Commit changes and close the connection\n",
    "connection.commit()\n",
    "connection.close()"
   ]
  },
  {
   "cell_type": "code",
   "execution_count": null,
   "id": "0b3bdb1a-202d-4c1d-b6ae-2f62c81cf5a6",
   "metadata": {},
   "outputs": [],
   "source": []
  }
 ],
 "metadata": {
  "kernelspec": {
   "display_name": "SageMath 10.3",
   "language": "sage",
   "name": "sagemath-10.3"
  },
  "language_info": {
   "codemirror_mode": {
    "name": "ipython",
    "version": 3
   },
   "file_extension": ".py",
   "mimetype": "text/x-python",
   "name": "python",
   "nbconvert_exporter": "python",
   "pygments_lexer": "ipython3",
   "version": "3.11.8"
  }
 },
 "nbformat": 4,
 "nbformat_minor": 5
}
